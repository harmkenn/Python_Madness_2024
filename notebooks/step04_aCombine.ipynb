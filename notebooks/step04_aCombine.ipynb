{
 "cells": [
  {
   "cell_type": "code",
   "execution_count": 49,
   "metadata": {},
   "outputs": [
    {
     "data": {
      "text/plain": [
       "[]"
      ]
     },
     "execution_count": 49,
     "metadata": {},
     "output_type": "execute_result"
    }
   ],
   "source": [
    "#Make Kenpom the standard team names\n",
    "import pandas as pd\n",
    "import numpy as np\n",
    "\n",
    "KP = pd.read_csv('step01_kenpom0824.csv')\n",
    "repair = pd.read_csv('step04_repair.csv')\n",
    "LF = list(repair['tofix'])\n",
    "LR = list(repair['replacewith'])\n",
    "KP['Team'] = KP['Team'].replace(LF,LR)\n",
    "KP = KP[KP['Team']!='out']\n",
    "sn = KP[KP['Year']>2020].sort_values('Team')['Team'].unique()\n",
    "KPN = KP.sort_values('Team')['Team'].unique()\n",
    "\n",
    "KP2fix = list(set(KPN) - set(sn))\n",
    "KP.to_csv('step01_kenpom0824.csv',index=False)\n",
    "pd.DataFrame(sn).to_csv('asn.csv',index=False)\n",
    "KP2fix"
   ]
  },
  {
   "cell_type": "code",
   "execution_count": 50,
   "metadata": {},
   "outputs": [
    {
     "data": {
      "text/plain": [
       "[]"
      ]
     },
     "execution_count": 50,
     "metadata": {},
     "output_type": "execute_result"
    }
   ],
   "source": [
    "# Make ESPN BPI Name match Kep Pom\n",
    "BPI = pd.read_csv('step02_espnbpi0824.csv')\n",
    "repair = pd.read_csv('step04_repair.csv')\n",
    "LF = list(repair['tofix'])\n",
    "LR = list(repair['replacewith'])\n",
    "BPI['Team'] = BPI['Team'].replace({'State':'St.'}, regex=True)\n",
    "BPI['Team'] = BPI['Team'].replace(LF,LR)\n",
    "BPI = BPI[BPI['Team']!='out']\n",
    "BPIN = BPI['Team'].unique()\n",
    "BPI2fix = list(set(BPIN) - set(sn))\n",
    "\n",
    "BPI.to_csv('step02_espnbpi0824.csv',index=False)\n",
    "BPI2fix"
   ]
  },
  {
   "cell_type": "code",
   "execution_count": 51,
   "metadata": {},
   "outputs": [
    {
     "data": {
      "text/plain": [
       "[]"
      ]
     },
     "execution_count": 51,
     "metadata": {},
     "output_type": "execute_result"
    }
   ],
   "source": [
    "# Make Baskeball Reference Team Names match Ken Pom\n",
    "BR = pd.read_csv(\"step03_br0824.csv\")\n",
    "repair = pd.read_csv('step04_repair.csv')\n",
    "LF = list(repair['tofix'])\n",
    "LR = list(repair['replacewith'])\n",
    "BR['Team'] = BR['Team'].replace({'State':'St.'}, regex=True)\n",
    "BR['Team'] = BR['Team'].replace(LF,LR)\n",
    "BR = BR[BR['Team']!='out']\n",
    "BRN = BR['Team'].unique()\n",
    "BR2fix = list(set(BRN) - set(sn))\n",
    "\n",
    "BR.to_csv('step03_br0824.csv',index=False)\n",
    "BR2fix"
   ]
  },
  {
   "cell_type": "code",
   "execution_count": 52,
   "metadata": {},
   "outputs": [
    {
     "data": {
      "text/plain": [
       "[]"
      ]
     },
     "execution_count": 52,
     "metadata": {},
     "output_type": "execute_result"
    }
   ],
   "source": [
    "# Make Bart Reference Team Names match Ken Pom\n",
    "bartdata = pd.read_csv(\"step03a_bart0824.csv\")\n",
    "repair = pd.read_csv('step04_repair.csv')\n",
    "LF = list(repair['tofix'])\n",
    "LR = list(repair['replacewith'])\n",
    "bartdata['Team'] = bartdata['Team'].replace({'State':'St.'}, regex=True)\n",
    "bartdata['Team'] = bartdata['Team'].replace(LF,LR)\n",
    "bartdata = bartdata[bartdata['Team']!='out']\n",
    "bartdataN = bartdata['Team'].unique()\n",
    "bart2fix = list(set(bartdataN) - set(sn))\n",
    "\n",
    "bartdata.to_csv('step03a_bart0824.csv',index=False)\n",
    "bart2fix"
   ]
  },
  {
   "cell_type": "code",
   "execution_count": 53,
   "metadata": {},
   "outputs": [
    {
     "ename": "BadZipFile",
     "evalue": "File is not a zip file",
     "output_type": "error",
     "traceback": [
      "\u001b[1;31m---------------------------------------------------------------------------\u001b[0m",
      "\u001b[1;31mBadZipFile\u001b[0m                                Traceback (most recent call last)",
      "Cell \u001b[1;32mIn[53], line 4\u001b[0m\n\u001b[0;32m      1\u001b[0m \u001b[38;5;28;01mimport\u001b[39;00m \u001b[38;5;21;01mpandas\u001b[39;00m \u001b[38;5;28;01mas\u001b[39;00m \u001b[38;5;21;01mpd\u001b[39;00m\n\u001b[0;32m      2\u001b[0m \u001b[38;5;66;03m# Make the history AGorite team names match Ken Pom\u001b[39;00m\n\u001b[0;32m      3\u001b[0m \u001b[38;5;66;03m#AG = pd.read_csv(\"step04_FUHistory.csv\")\u001b[39;00m\n\u001b[1;32m----> 4\u001b[0m AG \u001b[38;5;241m=\u001b[39m \u001b[43mpd\u001b[49m\u001b[38;5;241;43m.\u001b[39;49m\u001b[43mread_excel\u001b[49m\u001b[43m(\u001b[49m\u001b[38;5;124;43m'\u001b[39;49m\u001b[38;5;124;43mstep04_FUHistory.xlsx\u001b[39;49m\u001b[38;5;124;43m'\u001b[39;49m\u001b[43m,\u001b[49m\u001b[43m \u001b[49m\u001b[43msheet_name\u001b[49m\u001b[38;5;241;43m=\u001b[39;49m\u001b[38;5;124;43m'\u001b[39;49m\u001b[38;5;124;43mResults\u001b[39;49m\u001b[38;5;124;43m'\u001b[39;49m\u001b[43m)\u001b[49m\n\u001b[0;32m      5\u001b[0m AG[\u001b[38;5;124m'\u001b[39m\u001b[38;5;124mAFTeam\u001b[39m\u001b[38;5;124m'\u001b[39m] \u001b[38;5;241m=\u001b[39m AG[\u001b[38;5;124m'\u001b[39m\u001b[38;5;124mAFTeam\u001b[39m\u001b[38;5;124m'\u001b[39m]\u001b[38;5;241m.\u001b[39mreplace(LF,LR)\n\u001b[0;32m      6\u001b[0m AG \u001b[38;5;241m=\u001b[39m AG[AG[\u001b[38;5;124m'\u001b[39m\u001b[38;5;124mAFTeam\u001b[39m\u001b[38;5;124m'\u001b[39m]\u001b[38;5;241m!=\u001b[39m\u001b[38;5;124m'\u001b[39m\u001b[38;5;124mout\u001b[39m\u001b[38;5;124m'\u001b[39m]\n",
      "File \u001b[1;32m~\\AppData\\Roaming\\Python\\Python312\\site-packages\\pandas\\io\\excel\\_base.py:495\u001b[0m, in \u001b[0;36mread_excel\u001b[1;34m(io, sheet_name, header, names, index_col, usecols, dtype, engine, converters, true_values, false_values, skiprows, nrows, na_values, keep_default_na, na_filter, verbose, parse_dates, date_parser, date_format, thousands, decimal, comment, skipfooter, storage_options, dtype_backend, engine_kwargs)\u001b[0m\n\u001b[0;32m    493\u001b[0m \u001b[38;5;28;01mif\u001b[39;00m \u001b[38;5;129;01mnot\u001b[39;00m \u001b[38;5;28misinstance\u001b[39m(io, ExcelFile):\n\u001b[0;32m    494\u001b[0m     should_close \u001b[38;5;241m=\u001b[39m \u001b[38;5;28;01mTrue\u001b[39;00m\n\u001b[1;32m--> 495\u001b[0m     io \u001b[38;5;241m=\u001b[39m \u001b[43mExcelFile\u001b[49m\u001b[43m(\u001b[49m\n\u001b[0;32m    496\u001b[0m \u001b[43m        \u001b[49m\u001b[43mio\u001b[49m\u001b[43m,\u001b[49m\n\u001b[0;32m    497\u001b[0m \u001b[43m        \u001b[49m\u001b[43mstorage_options\u001b[49m\u001b[38;5;241;43m=\u001b[39;49m\u001b[43mstorage_options\u001b[49m\u001b[43m,\u001b[49m\n\u001b[0;32m    498\u001b[0m \u001b[43m        \u001b[49m\u001b[43mengine\u001b[49m\u001b[38;5;241;43m=\u001b[39;49m\u001b[43mengine\u001b[49m\u001b[43m,\u001b[49m\n\u001b[0;32m    499\u001b[0m \u001b[43m        \u001b[49m\u001b[43mengine_kwargs\u001b[49m\u001b[38;5;241;43m=\u001b[39;49m\u001b[43mengine_kwargs\u001b[49m\u001b[43m,\u001b[49m\n\u001b[0;32m    500\u001b[0m \u001b[43m    \u001b[49m\u001b[43m)\u001b[49m\n\u001b[0;32m    501\u001b[0m \u001b[38;5;28;01melif\u001b[39;00m engine \u001b[38;5;129;01mand\u001b[39;00m engine \u001b[38;5;241m!=\u001b[39m io\u001b[38;5;241m.\u001b[39mengine:\n\u001b[0;32m    502\u001b[0m     \u001b[38;5;28;01mraise\u001b[39;00m \u001b[38;5;167;01mValueError\u001b[39;00m(\n\u001b[0;32m    503\u001b[0m         \u001b[38;5;124m\"\u001b[39m\u001b[38;5;124mEngine should not be specified when passing \u001b[39m\u001b[38;5;124m\"\u001b[39m\n\u001b[0;32m    504\u001b[0m         \u001b[38;5;124m\"\u001b[39m\u001b[38;5;124man ExcelFile - ExcelFile already has the engine set\u001b[39m\u001b[38;5;124m\"\u001b[39m\n\u001b[0;32m    505\u001b[0m     )\n",
      "File \u001b[1;32m~\\AppData\\Roaming\\Python\\Python312\\site-packages\\pandas\\io\\excel\\_base.py:1550\u001b[0m, in \u001b[0;36mExcelFile.__init__\u001b[1;34m(self, path_or_buffer, engine, storage_options, engine_kwargs)\u001b[0m\n\u001b[0;32m   1548\u001b[0m     ext \u001b[38;5;241m=\u001b[39m \u001b[38;5;124m\"\u001b[39m\u001b[38;5;124mxls\u001b[39m\u001b[38;5;124m\"\u001b[39m\n\u001b[0;32m   1549\u001b[0m \u001b[38;5;28;01melse\u001b[39;00m:\n\u001b[1;32m-> 1550\u001b[0m     ext \u001b[38;5;241m=\u001b[39m \u001b[43minspect_excel_format\u001b[49m\u001b[43m(\u001b[49m\n\u001b[0;32m   1551\u001b[0m \u001b[43m        \u001b[49m\u001b[43mcontent_or_path\u001b[49m\u001b[38;5;241;43m=\u001b[39;49m\u001b[43mpath_or_buffer\u001b[49m\u001b[43m,\u001b[49m\u001b[43m \u001b[49m\u001b[43mstorage_options\u001b[49m\u001b[38;5;241;43m=\u001b[39;49m\u001b[43mstorage_options\u001b[49m\n\u001b[0;32m   1552\u001b[0m \u001b[43m    \u001b[49m\u001b[43m)\u001b[49m\n\u001b[0;32m   1553\u001b[0m     \u001b[38;5;28;01mif\u001b[39;00m ext \u001b[38;5;129;01mis\u001b[39;00m \u001b[38;5;28;01mNone\u001b[39;00m:\n\u001b[0;32m   1554\u001b[0m         \u001b[38;5;28;01mraise\u001b[39;00m \u001b[38;5;167;01mValueError\u001b[39;00m(\n\u001b[0;32m   1555\u001b[0m             \u001b[38;5;124m\"\u001b[39m\u001b[38;5;124mExcel file format cannot be determined, you must specify \u001b[39m\u001b[38;5;124m\"\u001b[39m\n\u001b[0;32m   1556\u001b[0m             \u001b[38;5;124m\"\u001b[39m\u001b[38;5;124man engine manually.\u001b[39m\u001b[38;5;124m\"\u001b[39m\n\u001b[0;32m   1557\u001b[0m         )\n",
      "File \u001b[1;32m~\\AppData\\Roaming\\Python\\Python312\\site-packages\\pandas\\io\\excel\\_base.py:1419\u001b[0m, in \u001b[0;36minspect_excel_format\u001b[1;34m(content_or_path, storage_options)\u001b[0m\n\u001b[0;32m   1416\u001b[0m \u001b[38;5;28;01melif\u001b[39;00m \u001b[38;5;129;01mnot\u001b[39;00m peek\u001b[38;5;241m.\u001b[39mstartswith(ZIP_SIGNATURE):\n\u001b[0;32m   1417\u001b[0m     \u001b[38;5;28;01mreturn\u001b[39;00m \u001b[38;5;28;01mNone\u001b[39;00m\n\u001b[1;32m-> 1419\u001b[0m \u001b[38;5;28;01mwith\u001b[39;00m \u001b[43mzipfile\u001b[49m\u001b[38;5;241;43m.\u001b[39;49m\u001b[43mZipFile\u001b[49m\u001b[43m(\u001b[49m\u001b[43mstream\u001b[49m\u001b[43m)\u001b[49m \u001b[38;5;28;01mas\u001b[39;00m zf:\n\u001b[0;32m   1420\u001b[0m     \u001b[38;5;66;03m# Workaround for some third party files that use forward slashes and\u001b[39;00m\n\u001b[0;32m   1421\u001b[0m     \u001b[38;5;66;03m# lower case names.\u001b[39;00m\n\u001b[0;32m   1422\u001b[0m     component_names \u001b[38;5;241m=\u001b[39m [\n\u001b[0;32m   1423\u001b[0m         name\u001b[38;5;241m.\u001b[39mreplace(\u001b[38;5;124m\"\u001b[39m\u001b[38;5;130;01m\\\\\u001b[39;00m\u001b[38;5;124m\"\u001b[39m, \u001b[38;5;124m\"\u001b[39m\u001b[38;5;124m/\u001b[39m\u001b[38;5;124m\"\u001b[39m)\u001b[38;5;241m.\u001b[39mlower() \u001b[38;5;28;01mfor\u001b[39;00m name \u001b[38;5;129;01min\u001b[39;00m zf\u001b[38;5;241m.\u001b[39mnamelist()\n\u001b[0;32m   1424\u001b[0m     ]\n\u001b[0;32m   1426\u001b[0m \u001b[38;5;28;01mif\u001b[39;00m \u001b[38;5;124m\"\u001b[39m\u001b[38;5;124mxl/workbook.xml\u001b[39m\u001b[38;5;124m\"\u001b[39m \u001b[38;5;129;01min\u001b[39;00m component_names:\n",
      "File \u001b[1;32mc:\\Program Files\\Python312\\Lib\\zipfile\\__init__.py:1341\u001b[0m, in \u001b[0;36mZipFile.__init__\u001b[1;34m(self, file, mode, compression, allowZip64, compresslevel, strict_timestamps, metadata_encoding)\u001b[0m\n\u001b[0;32m   1339\u001b[0m \u001b[38;5;28;01mtry\u001b[39;00m:\n\u001b[0;32m   1340\u001b[0m     \u001b[38;5;28;01mif\u001b[39;00m mode \u001b[38;5;241m==\u001b[39m \u001b[38;5;124m'\u001b[39m\u001b[38;5;124mr\u001b[39m\u001b[38;5;124m'\u001b[39m:\n\u001b[1;32m-> 1341\u001b[0m         \u001b[38;5;28;43mself\u001b[39;49m\u001b[38;5;241;43m.\u001b[39;49m\u001b[43m_RealGetContents\u001b[49m\u001b[43m(\u001b[49m\u001b[43m)\u001b[49m\n\u001b[0;32m   1342\u001b[0m     \u001b[38;5;28;01melif\u001b[39;00m mode \u001b[38;5;129;01min\u001b[39;00m (\u001b[38;5;124m'\u001b[39m\u001b[38;5;124mw\u001b[39m\u001b[38;5;124m'\u001b[39m, \u001b[38;5;124m'\u001b[39m\u001b[38;5;124mx\u001b[39m\u001b[38;5;124m'\u001b[39m):\n\u001b[0;32m   1343\u001b[0m         \u001b[38;5;66;03m# set the modified flag so central directory gets written\u001b[39;00m\n\u001b[0;32m   1344\u001b[0m         \u001b[38;5;66;03m# even if no files are added to the archive\u001b[39;00m\n\u001b[0;32m   1345\u001b[0m         \u001b[38;5;28mself\u001b[39m\u001b[38;5;241m.\u001b[39m_didModify \u001b[38;5;241m=\u001b[39m \u001b[38;5;28;01mTrue\u001b[39;00m\n",
      "File \u001b[1;32mc:\\Program Files\\Python312\\Lib\\zipfile\\__init__.py:1408\u001b[0m, in \u001b[0;36mZipFile._RealGetContents\u001b[1;34m(self)\u001b[0m\n\u001b[0;32m   1406\u001b[0m     \u001b[38;5;28;01mraise\u001b[39;00m BadZipFile(\u001b[38;5;124m\"\u001b[39m\u001b[38;5;124mFile is not a zip file\u001b[39m\u001b[38;5;124m\"\u001b[39m)\n\u001b[0;32m   1407\u001b[0m \u001b[38;5;28;01mif\u001b[39;00m \u001b[38;5;129;01mnot\u001b[39;00m endrec:\n\u001b[1;32m-> 1408\u001b[0m     \u001b[38;5;28;01mraise\u001b[39;00m BadZipFile(\u001b[38;5;124m\"\u001b[39m\u001b[38;5;124mFile is not a zip file\u001b[39m\u001b[38;5;124m\"\u001b[39m)\n\u001b[0;32m   1409\u001b[0m \u001b[38;5;28;01mif\u001b[39;00m \u001b[38;5;28mself\u001b[39m\u001b[38;5;241m.\u001b[39mdebug \u001b[38;5;241m>\u001b[39m \u001b[38;5;241m1\u001b[39m:\n\u001b[0;32m   1410\u001b[0m     \u001b[38;5;28mprint\u001b[39m(endrec)\n",
      "\u001b[1;31mBadZipFile\u001b[0m: File is not a zip file"
     ]
    }
   ],
   "source": [
    "import pandas as pd\n",
    "# Make the history AGorite team names match Ken Pom\n",
    "#AG = pd.read_csv(\"step04_FUHistory.csv\")\n",
    "AG = pd.read_excel('step04_FUHistory.xlsx', sheet_name='Results')\n",
    "AG['AFTeam'] = AG['AFTeam'].replace(LF,LR)\n",
    "AG = AG[AG['AFTeam']!='out']\n",
    "AGN = AG['AFTeam'].unique()\n",
    "AG2fix = list(set(AGN) - set(sn))\n",
    "AG2fix"
   ]
  },
  {
   "cell_type": "code",
   "execution_count": null,
   "metadata": {},
   "outputs": [
    {
     "data": {
      "text/plain": [
       "[]"
      ]
     },
     "execution_count": 41,
     "metadata": {},
     "output_type": "execute_result"
    }
   ],
   "source": [
    "# Make the history Underdog team names match Ken Pom\n",
    "AG['AUTeam'] = AG['AUTeam'].replace(LF,LR)\n",
    "AG = AG[AG['AUTeam']!='out']\n",
    "AGN = AG['AUTeam'].unique()\n",
    "AG2fix = list(set(AGN) - set(sn))\n",
    "with pd.ExcelWriter('step04_FUHistory.xlsx', mode='w', engine='openpyxl') as writer:\n",
    "    AG.to_excel(writer, sheet_name='Results', index=False)\n",
    "AG2fix\n"
   ]
  },
  {
   "cell_type": "code",
   "execution_count": null,
   "metadata": {},
   "outputs": [],
   "source": [
    "# Compute Seed History\n",
    "AG = pd.read_excel('step04_FUHistory.xlsx', sheet_name='Results')\n",
    "#AG = AG[AG['Year']<2023]\n",
    "LG = AG[AG['Round']==6]\n",
    "CS = pd.DataFrame({'Round','Seed'})\n",
    "\n",
    "for row in range(len(LG)):\n",
    "    if LG.iloc[row][\"AFScore\"]>LG.iloc[row][\"AUScore\"]:\n",
    "        ws = LG.iloc[row][\"AFSeed\"]\n",
    "\n",
    "    else:\n",
    "        ws = LG.iloc[row][\"AUSeed\"]\n",
    "    CS.loc[row,'Round'] = 'W'\n",
    "    CS.loc[row,'Seed'] = ws\n",
    "\n",
    "\n",
    "cs = pd.crosstab(index=CS['Seed'],columns=CS['Round'])\n",
    "fs = pd.crosstab(index=AG['AFSeed'],columns=AG['Round'])\n",
    "us = pd.crosstab(index=AG['AUSeed'],columns=AG['Round'])\n",
    "ufs = fs.add(us, fill_value=0).astype(int).drop([0],axis=1)\n",
    "df = ufs.add(cs, fill_value=0).fillna(0).astype(int)\n",
    "nos = df.max().max()\n",
    "df['Exp Wins'] = (df.sum(axis=1)-nos)/nos\n",
    "df.to_csv('step04_SeedHistory.csv',index=False) \n",
    "#Build PASE\n",
    "\n",
    "# table of wins\n",
    "fw = pd.crosstab(index=AG['AFTeam'],columns=AG['Year'])\n",
    "uw = pd.crosstab(index=AG['AUTeam'],columns=AG['Year'])\n",
    "\n",
    "# How many wins did the team acutally get per year if they were in the tournament\n",
    "cw = fw.add(uw, fill_value=0).fillna(0).astype(int) - 1\n",
    "cw = cw.replace(-1, '')\n",
    "\n",
    "# table of seeds\n",
    "AG1 = AG[AG['Round']==1]\n",
    "fs = AG1.pivot(index='AFTeam', columns='Year', values = 'AFSeed').fillna(0).astype(int)\n",
    "us = AG1.pivot(index='AUTeam', columns='Year', values = 'AUSeed').fillna(0).astype(int)\n",
    "\n",
    "cs = fs.add(us, fill_value=0).fillna(0).astype(int)\n",
    "cs = cs.replace(0, '')\n",
    "\n",
    "# table of expected wins\n",
    "sh =pd.read_csv('step04_SeedHistory.csv')\n",
    "ew = pd.DataFrame({'Seed':np.arange(1,17),'Exp Wins':sh['Exp Wins']})\n",
    "\n",
    "# ewty is expected number of wins by team and by year\n",
    "ewty = cs.replace(list(ew['Seed']),list(ew['Exp Wins']))\n",
    "# fill in zeros into the blank spaces\n",
    "pd.set_option('future.no_silent_downcasting', True)\n",
    "\n",
    "ewz = (ewty * -1).replace(r'^\\s*$', np.nan, regex=True).fillna(0)\n",
    "\n",
    "cwz = cw.replace(r'^\\s*$', np.nan, regex=True).fillna(0)\n",
    "pase = cwz.add(ewz).replace(0, np.nan)\n",
    "pase['PASE']=pase.mean(axis=1)\n",
    "pase = pase.iloc[:,-1:]\n",
    "\n",
    "pase.to_csv('step05_PASE.csv')   \n"
   ]
  },
  {
   "cell_type": "code",
   "execution_count": null,
   "metadata": {},
   "outputs": [
    {
     "data": {
      "text/plain": [
       "[]"
      ]
     },
     "execution_count": 43,
     "metadata": {},
     "output_type": "execute_result"
    }
   ],
   "source": [
    "# Make sure PASE team names are matched to Ken Pom\n",
    "pase = pd.read_csv(\"step05_PASE.csv\")\n",
    "pase.columns = ['Team','PASE']\n",
    "pase['Team'] = pase['Team'].replace(LF,LR)\n",
    "pase = pase[pase['Team']!='out']\n",
    "paseN = pase['Team'].unique()\n",
    "pase2fix = list(set(paseN) - set(sn))\n",
    "\n",
    "pase.to_csv('step05_PASE.csv',index=False)\n",
    "pase2fix"
   ]
  },
  {
   "cell_type": "code",
   "execution_count": null,
   "metadata": {},
   "outputs": [],
   "source": [
    "# just Bart\n",
    "KPBPIBRP = bartdata\n",
    "KPBPIBRP.to_csv('step06_AllStats.csv',index=False)"
   ]
  },
  {
   "cell_type": "code",
   "execution_count": null,
   "metadata": {},
   "outputs": [],
   "source": [
    "#Combine all the datframes\n",
    "KPBPI = KP.merge(BPI,how='left', on=['Year','Team'])\n",
    "KPBPIB = KPBPI.merge(BR, how = 'left', on=['Year','Team'])\n",
    "KPBPIBR = KPBPIB.merge(bartdata, how = 'left', on=['Year','Team'])\n",
    "KPBPIBRP = KPBPIBR.merge(pase, how = 'left', on = ['Team'])\n",
    "KPBPIBRP.to_csv('step06_AllStats.csv',index=False)"
   ]
  },
  {
   "cell_type": "code",
   "execution_count": null,
   "metadata": {},
   "outputs": [],
   "source": [
    "#Attach stats to Tournament Games\n",
    "AG = pd.read_excel('step04_FUHistory.xlsx', sheet_name='Results')\n",
    "AG = AG[AG['Year']>=2008]\n",
    "AGstats = AG.merge(KPBPIBRP, left_on = ['Year','AFTeam'], right_on = ['Year','Team'], how = 'left')\n",
    "AGstatsandU = AGstats.merge(KPBPIBRP, left_on = ['Year','AUTeam'], right_on = ['Year','Team'], how = 'left')\n",
    "AGstatsandU = AGstatsandU.drop(['Team_x','Team_y'],axis=1)\n",
    "AGstatsandU.to_csv('step07_FUStats.csv',index=False)"
   ]
  }
 ],
 "metadata": {
  "kernelspec": {
   "display_name": "Python 3",
   "language": "python",
   "name": "python3"
  },
  "language_info": {
   "codemirror_mode": {
    "name": "ipython",
    "version": 3
   },
   "file_extension": ".py",
   "mimetype": "text/x-python",
   "name": "python",
   "nbconvert_exporter": "python",
   "pygments_lexer": "ipython3",
   "version": "3.12.2"
  },
  "orig_nbformat": 4,
  "vscode": {
   "interpreter": {
    "hash": "75a0be042a4beffa7bfe652d9ca9055e675071b6b5ebd40357e1d67e4cb4d822"
   }
  }
 },
 "nbformat": 4,
 "nbformat_minor": 2
}
