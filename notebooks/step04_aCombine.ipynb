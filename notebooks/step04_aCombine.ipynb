{
 "cells": [
  {
   "cell_type": "code",
   "execution_count": 1,
   "metadata": {},
   "outputs": [
    {
     "data": {
      "text/plain": [
       "[]"
      ]
     },
     "execution_count": 1,
     "metadata": {},
     "output_type": "execute_result"
    }
   ],
   "source": [
    "#Make Kenpom the standard team names\n",
    "import pandas as pd\n",
    "import numpy as np\n",
    "\n",
    "KP = pd.read_csv('step01_kenpom0823.csv')\n",
    "repair = pd.read_csv('step04_repair.csv')\n",
    "LF = list(repair['tofix'])\n",
    "LR = list(repair['replacewith'])\n",
    "KP['Team'] = KP['Team'].replace(LF,LR)\n",
    "KP = KP[KP['Team']!='out']\n",
    "sn = KP[KP['Year']==2023].sort_values('Team')['Team'].unique()\n",
    "KPN = KP.sort_values('Team')['Team'].unique()\n",
    "KP2fix = list(set(KPN) - set(sn))\n",
    "KP.to_csv('step01_kenpom0823.csv',index=False)\n",
    "pd.DataFrame(sn).to_csv('asn.csv',index=False)\n",
    "KP2fix"
   ]
  },
  {
   "cell_type": "code",
   "execution_count": 2,
   "metadata": {},
   "outputs": [
    {
     "data": {
      "text/plain": [
       "['South Carolina Upstate Spartans']"
      ]
     },
     "execution_count": 2,
     "metadata": {},
     "output_type": "execute_result"
    }
   ],
   "source": [
    "# Make ESPN BPI Name match Kep Pom\n",
    "BPI = pd.read_csv('step02_espnbpi0823.csv')\n",
    "BPI['Team'] = BPI['Team'].replace({'State':'St.'}, regex=True)\n",
    "BPI['Team'] = BPI['Team'].replace(LF,LR)\n",
    "BPI = BPI[BPI['Team']!='out']\n",
    "BPIN = BPI['Team'].unique()\n",
    "BPI2fix = list(set(BPIN) - set(sn))\n",
    "\n",
    "BPI.to_csv('step02_espnbpi0823.csv',index=False)\n",
    "BPI2fix"
   ]
  },
  {
   "cell_type": "code",
   "execution_count": 3,
   "metadata": {},
   "outputs": [
    {
     "data": {
      "text/plain": [
       "[]"
      ]
     },
     "execution_count": 3,
     "metadata": {},
     "output_type": "execute_result"
    }
   ],
   "source": [
    "# Make Baskebal Reference Team Names match Ken Pom\n",
    "BR = pd.read_csv(\"step03_br0823.csv\")\n",
    "BR['Team'] = BR['Team'].replace({'State':'St.'}, regex=True)\n",
    "BR['Team'] = BR['Team'].replace(LF,LR)\n",
    "BR = BR[BR['Team']!='out']\n",
    "BRN = BR['Team'].unique()\n",
    "BR2fix = list(set(BRN) - set(sn))\n",
    "\n",
    "BR.to_csv('step03_br0823.csv',index=False)\n",
    "BR2fix"
   ]
  },
  {
   "cell_type": "code",
   "execution_count": 4,
   "metadata": {},
   "outputs": [
    {
     "data": {
      "text/plain": [
       "[]"
      ]
     },
     "execution_count": 4,
     "metadata": {},
     "output_type": "execute_result"
    }
   ],
   "source": [
    "import pandas as pd\n",
    "# Make the history AGorite team names match Ken Pom\n",
    "AG = pd.read_csv(\"step04_FUHistory.csv\")\n",
    "AG['AFTeam'] = AG['AFTeam'].replace(LF,LR)\n",
    "AG = AG[AG['AFTeam']!='out']\n",
    "AGN = AG['AFTeam'].unique()\n",
    "AG2fix = list(set(AGN) - set(sn))\n",
    "AG2fix"
   ]
  },
  {
   "cell_type": "code",
   "execution_count": 5,
   "metadata": {},
   "outputs": [
    {
     "data": {
      "text/plain": [
       "[]"
      ]
     },
     "execution_count": 5,
     "metadata": {},
     "output_type": "execute_result"
    }
   ],
   "source": [
    "# Make the history Underdog team names match Ken Pom\n",
    "AG['AUTeam'] = AG['AUTeam'].replace(LF,LR)\n",
    "AG = AG[AG['AUTeam']!='out']\n",
    "AGN = AG['AUTeam'].unique()\n",
    "AG2fix = list(set(AGN) - set(sn))\n",
    "\n",
    "AG.to_csv('step04_FUHistory.csv',index=False)\n",
    "AG2fix\n"
   ]
  },
  {
   "cell_type": "code",
   "execution_count": 6,
   "metadata": {},
   "outputs": [],
   "source": [
    "# Compute Seed History\n",
    "AG = pd.read_csv('step04_FUHistory.csv')\n",
    "LG = AG[AG['Round']=='6']\n",
    "CS = pd.DataFrame({'Round','Seed'})\n",
    "for x in range(0,36):\n",
    "    if LG.iloc[x][\"AFScore\"]>LG.iloc[x][\"AUScore\"]:\n",
    "        ws = LG.iloc[x][\"AFSeed\"]\n",
    "    else:\n",
    "        ws = LG.iloc[x][\"AUSeed\"]\n",
    "    CS.loc[x,'Round'] = 'W'\n",
    "    CS.loc[x,'Seed'] = ws\n",
    "cs = pd.crosstab(index=CS['Seed'],columns=CS['Round'])\n",
    "fs = pd.crosstab(index=AG['AFSeed'],columns=AG['Round'])\n",
    "us = pd.crosstab(index=AG['AUSeed'],columns=AG['Round'])\n",
    "ufs = fs.add(us, fill_value=0).astype(int).drop(['PI'],axis=1)\n",
    "df = ufs.add(cs, fill_value=0).fillna(0).astype(int)\n",
    "nos = df.max().max()\n",
    "df['Exp Wins'] = (df.sum(axis=1)-nos)/nos\n",
    "df.to_csv('step04_SeedHistory.csv',index=False) \n",
    "#Build PASE\n",
    "\n",
    "# table of wins\n",
    "fw = pd.crosstab(index=AG['AFTeam'],columns=AG['Year'])\n",
    "uw = pd.crosstab(index=AG['AUTeam'],columns=AG['Year'])\n",
    "\n",
    "cw = fw.add(uw, fill_value=0).fillna(0).astype(int) - 1\n",
    "cw = cw.replace(-1, '')\n",
    "\n",
    "# table of seeds\n",
    "AG1 = AG[AG['Round']=='1']\n",
    "fs = AG1.pivot(index='AFTeam', columns='Year', values = 'AFSeed').fillna(0).astype(int)\n",
    "us = AG1.pivot(index='AUTeam', columns='Year', values = 'AUSeed').fillna(0).astype(int)\n",
    "\n",
    "cs = fs.add(us, fill_value=0).fillna(0).astype(int)\n",
    "cs = cs.replace(0, '')\n",
    "\n",
    "# table of expected wins\n",
    "sh =pd.read_csv('step04_SeedHistory.csv')\n",
    "ew = pd.DataFrame({'Seed':np.arange(1,17),'Exp Wins':sh['Exp Wins']})\n",
    "\n",
    "ewty = cs.replace(list(ew['Seed']),list(ew['Exp Wins']))\n",
    "\n",
    "ewz = (ewty * -1).replace(r'^\\s*$', np.nan, regex=True).fillna(0)\n",
    "cwz = cw.replace(r'^\\s*$', np.nan, regex=True).fillna(0)\n",
    "pase = cwz.add(ewz).replace(0, np.nan)\n",
    "pase['PASE']=pase.mean(axis=1)\n",
    "pase = pase.iloc[:,-1:]\n",
    "\n",
    "pase.to_csv('step04_PASE.csv')   \n"
   ]
  },
  {
   "cell_type": "code",
   "execution_count": 7,
   "metadata": {},
   "outputs": [
    {
     "data": {
      "text/plain": [
       "[]"
      ]
     },
     "execution_count": 7,
     "metadata": {},
     "output_type": "execute_result"
    }
   ],
   "source": [
    "# Make sure PASE team names are matched to Ken Pom\n",
    "pase = pd.read_csv(\"step04_PASE.csv\")\n",
    "pase.columns = ['Team','PASE']\n",
    "pase['Team'] = pase['Team'].replace(LF,LR)\n",
    "pase = pase[pase['Team']!='out']\n",
    "paseN = pase['Team'].unique()\n",
    "pase2fix = list(set(paseN) - set(sn))\n",
    "\n",
    "pase.to_csv('step04_PASE.csv',index=False)\n",
    "pase2fix"
   ]
  },
  {
   "cell_type": "code",
   "execution_count": 8,
   "metadata": {},
   "outputs": [],
   "source": [
    "#Combine all the datframes\n",
    "KPBPI = KP.merge(BPI,how='left', on=['Year','Team'])\n",
    "KPBPIBR = KPBPI.merge(BR, how = 'left', on=['Year','Team'])\n",
    "KPBPIBRP = KPBPIBR.merge(pase, how = 'left', on = ['Team'])\n",
    "KPBPIBRP.to_csv('step04_AllStats.csv',index=False)"
   ]
  },
  {
   "cell_type": "code",
   "execution_count": 9,
   "metadata": {},
   "outputs": [],
   "source": [
    "#Attach stats to Tournament Games\n",
    "AG = pd.read_csv('step04_FUHistory.csv')\n",
    "AG = AG[AG['Year']>=2008]\n",
    "AGstats = AG.merge(KPBPIBRP, left_on = ['Year','AFTeam'], right_on = ['Year','Team'], how = 'left')\n",
    "AGstatsandU = AGstats.merge(KPBPIBRP, left_on = ['Year','AUTeam'], right_on = ['Year','Team'], how = 'left')\n",
    "AGstatsandU = AGstatsandU.drop(['Team_x','Team_y'],axis=1)\n",
    "AGstatsandU.to_csv('step04_FUStats.csv',index=False)"
   ]
  }
 ],
 "metadata": {
  "kernelspec": {
   "display_name": "Python 3",
   "language": "python",
   "name": "python3"
  },
  "language_info": {
   "codemirror_mode": {
    "name": "ipython",
    "version": 3
   },
   "file_extension": ".py",
   "mimetype": "text/x-python",
   "name": "python",
   "nbconvert_exporter": "python",
   "pygments_lexer": "ipython3",
   "version": "3.11.2"
  },
  "orig_nbformat": 4,
  "vscode": {
   "interpreter": {
    "hash": "75a0be042a4beffa7bfe652d9ca9055e675071b6b5ebd40357e1d67e4cb4d822"
   }
  }
 },
 "nbformat": 4,
 "nbformat_minor": 2
}
