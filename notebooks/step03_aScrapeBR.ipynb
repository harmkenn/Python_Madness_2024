{
 "cells": [
  {
   "cell_type": "code",
   "execution_count": null,
   "metadata": {},
   "outputs": [],
   "source": [
    "# Scrape Basketball Reference 2008 to 2022\n",
    "# https://www.sports-reference.com/cbb/seasons/2008-ratings.html\n",
    "# Importing the required libraries\n",
    "import requests\n",
    "import pandas as pd\n",
    "from bs4 import BeautifulSoup\n",
    "import numpy as np\n",
    "\n",
    "season = np.arange(2008,2023,1)\n",
    "\n",
    "allBR = pd.DataFrame(columns = ['Year','Team','W','L','Pts','Opp','MOV','SOS','OSRS','DSRS','SRS'])\n",
    "\n",
    "for y in season:\n",
    "    # Downloading contents of the web page\n",
    "    url = f\"https://www.sports-reference.com/cbb/seasons/{y}-ratings.html\"\n",
    "    data = requests.get(url).text\n",
    "\n",
    "    # Creating BeautifulSoup object\n",
    "    soup = BeautifulSoup(data, 'html.parser')\n",
    "    table = soup.find('table', class_='stats_table')\n",
    "\n",
    "    # Collecting Ddata\n",
    "    for row in table.tbody.find_all('tr'):    \n",
    "        # Find all data for each column\n",
    "        columns = row.find_all('td')\n",
    "        if(columns != []):\n",
    "            Team = columns[0].text.strip()\n",
    "            W = columns[3].text.strip()\n",
    "            L = columns[4].text.strip()\n",
    "            Pts = columns[5].text.strip()\n",
    "            Opp = columns[6].text.strip()\n",
    "            MOV = columns[7].text.strip()\n",
    "            SOS = columns[9].text.strip()\n",
    "            OSRS = columns[11].text.strip()\n",
    "            DSRS = columns[12].text.strip()\n",
    "            SRS = columns[13].text.strip()\n",
    "            newrow = [y,Team,W,L,Pts,Opp,MOV,SOS,OSRS,DSRS,SRS]\n",
    "            allBR.loc[len(allBR)]=newrow\n",
    "allBR.to_csv('step03_br0823.csv',index=False)"
   ]
  },
  {
   "cell_type": "code",
   "execution_count": 1,
   "metadata": {},
   "outputs": [],
   "source": [
    "# Scrape Basketball Reference 2023\n",
    "# https://www.sports-reference.com/cbb/seasons/2008-ratings.html\n",
    "# Importing the required libraries\n",
    "import requests\n",
    "import pandas as pd\n",
    "from bs4 import BeautifulSoup\n",
    "import numpy as np\n",
    "\n",
    "y = 2023\n",
    "\n",
    "allBR = pd.read_csv('step03_br0823.csv')\n",
    "allBR =allBR[allBR['Year']!=2023]\n",
    "\n",
    "\n",
    "# Downloading contents of the web page\n",
    "url = f\"https://www.sports-reference.com/cbb/seasons/{y}-ratings.html\"\n",
    "data = requests.get(url).text\n",
    "\n",
    "# Creating BeautifulSoup object\n",
    "soup = BeautifulSoup(data, 'html.parser')\n",
    "table = soup.find('table', class_='stats_table')\n",
    "\n",
    "# Collecting Ddata\n",
    "for row in table.tbody.find_all('tr'):    \n",
    "    # Find all data for each column\n",
    "    columns = row.find_all('td')\n",
    "    if(columns != []):\n",
    "        Team = columns[0].text.strip()\n",
    "        W = columns[4].text.strip()\n",
    "        L = columns[5].text.strip()\n",
    "        Pts = columns[6].text.strip()\n",
    "        Opp = columns[7].text.strip()\n",
    "        MOV = columns[8].text.strip()\n",
    "        SOS = columns[10].text.strip()\n",
    "        OSRS = columns[12].text.strip()\n",
    "        DSRS = columns[13].text.strip()\n",
    "        SRS = columns[14].text.strip()\n",
    "        newrow = [y,Team,W,L,Pts,Opp,MOV,SOS,OSRS,DSRS,SRS]\n",
    "        allBR.loc[len(allBR)]=newrow\n",
    "allBR.to_csv('step03_br0823.csv',index=False)"
   ]
  },
  {
   "cell_type": "code",
   "execution_count": null,
   "metadata": {},
   "outputs": [],
   "source": []
  }
 ],
 "metadata": {
  "kernelspec": {
   "display_name": "Python 3",
   "language": "python",
   "name": "python3"
  },
  "language_info": {
   "codemirror_mode": {
    "name": "ipython",
    "version": 3
   },
   "file_extension": ".py",
   "mimetype": "text/x-python",
   "name": "python",
   "nbconvert_exporter": "python",
   "pygments_lexer": "ipython3",
   "version": "3.11.2"
  },
  "orig_nbformat": 4,
  "vscode": {
   "interpreter": {
    "hash": "75a0be042a4beffa7bfe652d9ca9055e675071b6b5ebd40357e1d67e4cb4d822"
   }
  }
 },
 "nbformat": 4,
 "nbformat_minor": 2
}
