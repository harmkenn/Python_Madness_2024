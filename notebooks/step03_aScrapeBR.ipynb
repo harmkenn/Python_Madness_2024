{
 "cells": [
  {
   "cell_type": "code",
   "execution_count": null,
   "metadata": {},
   "outputs": [],
   "source": [
    "# Start Sports Raference 2008\n",
    "\n",
    "import requests\n",
    "import pandas as pd\n",
    "y = 2008\n",
    "url = f'https://www.sports-reference.com/cbb/seasons/men/{y}-ratings.html'\n",
    "html = requests.get(url).content\n",
    "df_list = pd.read_html(html)\n",
    "df = df_list[-1]  # Assuming the relevant table is the last one\n",
    "df.columns = ['Rk','Team','Conf','','W','L','Pts','Opp','MOV','','SOS','','OSRS','DSRS','SRS','','','']\n",
    "\n",
    "keep = ['Year','Team','W', 'L', 'Pts', 'Opp', 'MOV','SOS', 'OSRS', 'DSRS', 'SRS']\n",
    "\n",
    "df['Year'] = y\n",
    "\n",
    "df = df[keep].dropna()\n",
    "df = df[df['Team']!='School']\n",
    "\n",
    "df.to_csv('step03_br0824.csv',index=False)\n"
   ]
  },
  {
   "cell_type": "code",
   "execution_count": null,
   "metadata": {},
   "outputs": [],
   "source": [
    "# Now scrape 2009 to 2024\n",
    "\n",
    "import requests\n",
    "import pandas as pd\n",
    "\n",
    "allbr = pd.read_csv('step03_br0824.csv')\n",
    "\n",
    "allbr = allbr[allbr['Year']<2009]\n",
    "\n",
    "for y in range(2009,2024):\n",
    "    url = f'https://www.sports-reference.com/cbb/seasons/men/{y}-ratings.html'\n",
    "    html = requests.get(url).content\n",
    "    df_list = pd.read_html(html)\n",
    "    df = df_list[-1]  # Assuming the relevant table is the last one\n",
    "    df.columns = ['Rk','Team','Conf','','W','L','Pts','Opp','MOV','','SOS','','OSRS','DSRS','SRS','','','']\n",
    "\n",
    "    keep = ['Year','Team','W', 'L', 'Pts', 'Opp', 'MOV','SOS', 'OSRS', 'DSRS', 'SRS']\n",
    "\n",
    "    df['Year'] = y\n",
    "\n",
    "    df = df[keep].dropna()\n",
    "    df = df[df['Team']!='School']\n",
    "\n",
    "    allbr = pd.concat([allbr,df])\n",
    "\n",
    "allbr.to_csv('step03_br0824.csv',index=False)"
   ]
  },
  {
   "cell_type": "code",
   "execution_count": null,
   "metadata": {},
   "outputs": [],
   "source": [
    "# Now grab the current year 2024\n",
    "\n",
    "import requests\n",
    "import pandas as pd\n",
    "y = 2024\n",
    "url = f'https://www.sports-reference.com/cbb/seasons/men/{y}-ratings.html'\n",
    "html = requests.get(url).content\n",
    "df_list = pd.read_html(html)\n",
    "df = df_list[-1]  # Assuming the relevant table is the last one\n",
    "df.columns = ['Rk','Team','Conf','','','W','L','Pts','Opp','MOV','','SOS','','OSRS','DSRS','SRS','','','']\n",
    "\n",
    "keep = ['Year','Team','W', 'L', 'Pts', 'Opp', 'MOV','SOS', 'OSRS', 'DSRS', 'SRS']\n",
    "\n",
    "df['Year'] = y\n",
    "\n",
    "df = df[keep].dropna()\n",
    "df = df[df['Team']!='School']\n",
    "\n",
    "allbr = pd.concat([allbr,df])\n",
    "\n",
    "allbr.to_csv('step03_br0824.csv',index=False)"
   ]
  }
 ],
 "metadata": {
  "kernelspec": {
   "display_name": "Python 3",
   "language": "python",
   "name": "python3"
  },
  "language_info": {
   "codemirror_mode": {
    "name": "ipython",
    "version": 3
   },
   "file_extension": ".py",
   "mimetype": "text/x-python",
   "name": "python",
   "nbconvert_exporter": "python",
   "pygments_lexer": "ipython3",
   "version": "3.12.1"
  },
  "orig_nbformat": 4,
  "vscode": {
   "interpreter": {
    "hash": "75a0be042a4beffa7bfe652d9ca9055e675071b6b5ebd40357e1d67e4cb4d822"
   }
  }
 },
 "nbformat": 4,
 "nbformat_minor": 2
}
