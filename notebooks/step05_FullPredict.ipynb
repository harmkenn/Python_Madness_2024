{
 "cells": [
  {
   "cell_type": "code",
   "execution_count": 4,
   "metadata": {},
   "outputs": [
    {
     "name": "stderr",
     "output_type": "stream",
     "text": [
      "C:\\Users\\Daddy\\AppData\\Local\\Temp\\ipykernel_13256\\3235898579.py:12: SettingWithCopyWarning: \n",
      "A value is trying to be set on a copy of a slice from a DataFrame.\n",
      "Try using .loc[row_indexer,col_indexer] = value instead\n",
      "\n",
      "See the caveats in the documentation: https://pandas.pydata.org/pandas-docs/stable/user_guide/indexing.html#returning-a-view-versus-a-copy\n",
      "  champs.loc[year,6] = champs.loc[year,'AUTeam']\n"
     ]
    }
   ],
   "source": [
    "import pandas as pd\n",
    "\n",
    "AG = pd.read_csv('step04_FUHistory.csv')\n",
    "AG = AG[AG['Year']<=2023]\n",
    "champs = AG[AG['Round']==6]\n",
    "champs.index = champs[\"Year\"]\n",
    "\n",
    "for year in champs['Year']:\n",
    "    if champs.loc[year,'AFScore'] > champs.loc[year,'AUScore']:\n",
    "        champs.loc[year,6] = champs.loc[year,'AFTeam']\n",
    "    else:\n",
    "        champs.loc[year,6] = champs.loc[year,'AUTeam']\n",
    "\n",
    "# table of wins\n",
    "fw = pd.crosstab(index=AG['AFTeam'],columns=AG['Year'])\n",
    "uw = pd.crosstab(index=AG['AUTeam'],columns=AG['Year'])\n",
    "chw = pd.crosstab(index=champs[6],columns=champs['Year'])\n",
    "\n",
    "cw = fw.add(uw, fill_value=0).fillna(0).astype(int) - 1\n",
    "cw = cw.add(chw, fill_value=0).fillna(0).astype(int)\n",
    "cw = cw.replace(-1, '').astype(str)\n"
   ]
  }
 ],
 "metadata": {
  "kernelspec": {
   "display_name": "Python 3",
   "language": "python",
   "name": "python3"
  },
  "language_info": {
   "codemirror_mode": {
    "name": "ipython",
    "version": 3
   },
   "file_extension": ".py",
   "mimetype": "text/x-python",
   "name": "python",
   "nbconvert_exporter": "python",
   "pygments_lexer": "ipython3",
   "version": "3.11.2"
  },
  "orig_nbformat": 4,
  "vscode": {
   "interpreter": {
    "hash": "75a0be042a4beffa7bfe652d9ca9055e675071b6b5ebd40357e1d67e4cb4d822"
   }
  }
 },
 "nbformat": 4,
 "nbformat_minor": 2
}
