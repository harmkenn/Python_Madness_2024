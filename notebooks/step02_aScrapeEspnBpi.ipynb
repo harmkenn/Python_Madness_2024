{
 "cells": [
  {
   "cell_type": "code",
   "execution_count": 5,
   "metadata": {},
   "outputs": [
    {
     "name": "stdout",
     "output_type": "stream",
     "text": [
      "2008\n"
     ]
    },
    {
     "ename": "AttributeError",
     "evalue": "'WebDriver' object has no attribute 'find_element_by_tag_name'",
     "output_type": "error",
     "traceback": [
      "\u001b[1;31m---------------------------------------------------------------------------\u001b[0m",
      "\u001b[1;31mAttributeError\u001b[0m                            Traceback (most recent call last)",
      "Cell \u001b[1;32mIn[5], line 44\u001b[0m\n\u001b[0;32m     40\u001b[0m espnBPI \u001b[39m=\u001b[39m bpi\n\u001b[0;32m     43\u001b[0m \u001b[39mfor\u001b[39;00m y \u001b[39min\u001b[39;00m \u001b[39mrange\u001b[39m(\u001b[39m2009\u001b[39m,\u001b[39m2023\u001b[39m):\n\u001b[1;32m---> 44\u001b[0m     driver\u001b[39m.\u001b[39;49mfind_element_by_tag_name(\u001b[39m'\u001b[39m\u001b[39mbody\u001b[39m\u001b[39m'\u001b[39m)\u001b[39m.\u001b[39msend_keys(Keys\u001b[39m.\u001b[39mCOMMAND \u001b[39m+\u001b[39m \u001b[39m'\u001b[39m\u001b[39mt\u001b[39m\u001b[39m'\u001b[39m) \n\u001b[0;32m     45\u001b[0m     driver\u001b[39m.\u001b[39mget(\u001b[39mf\u001b[39m\u001b[39m'\u001b[39m\u001b[39mhttps://www.espn.com/mens-college-basketball/bpi/_/season/\u001b[39m\u001b[39m{\u001b[39;00my\u001b[39m}\u001b[39;00m\u001b[39m'\u001b[39m)\n\u001b[0;32m     46\u001b[0m     time\u001b[39m.\u001b[39msleep(\u001b[39m10\u001b[39m)\n",
      "\u001b[1;31mAttributeError\u001b[0m: 'WebDriver' object has no attribute 'find_element_by_tag_name'"
     ]
    }
   ],
   "source": [
    "# Scrape ESPN BPI 2008 - 2022 https://www.espn.com/mens-college-basketball/bpi\n",
    "\n",
    "from selenium import webdriver\n",
    "import pandas as pd\n",
    "from selenium import webdriver\n",
    "from selenium.webdriver.common.by import By\n",
    "from selenium.webdriver.chrome.options import Options\n",
    "from selenium.webdriver.support.ui import WebDriverWait\n",
    "from selenium.webdriver.support import expected_conditions as EC\n",
    "from selenium.webdriver.common.keys import Keys\n",
    "from selenium.webdriver.chrome.service import Service\n",
    "import time\n",
    "\n",
    "PATH = 'E:\\Github\\chromedriver.exe' \n",
    "service = Service(PATH)\n",
    "opt = Options()\n",
    "opt.add_argument('--headless')\n",
    "driver = webdriver.Chrome(service=service,options=opt)\n",
    "\n",
    "driver.get('https://www.espn.com/mens-college-basketball/bpi/_/view/bpi/season/2008')\n",
    "driver.maximize_window()\n",
    "\n",
    "element = WebDriverWait(driver, 20).until(EC.presence_of_element_located((By.ID, \"onetrust-accept-btn-handler\"))).click()\n",
    "time.sleep(5)\n",
    "try:\n",
    "    for x in range(7):\n",
    "        element = WebDriverWait(driver, 10).until(EC.presence_of_element_located((By.LINK_TEXT, \"Show More\"))).click() \n",
    "except:\n",
    "    try:\n",
    "        element = WebDriverWait(driver, 1000).until(EC.presence_of_element_located((By.XPATH, \"//table\")))\n",
    "        df = pd.read_html(driver.page_source)[0]\n",
    "        df2 = pd.read_html(driver.page_source)[1]\n",
    "    finally:\n",
    "        \n",
    "        bpi = pd.concat([df, df2], axis=1)\n",
    "        bpi['Year']=2008\n",
    "        bpi = bpi.iloc[:,[12,0,1,6,7]]\n",
    "        bpi.columns = ['Year','Team','Conf','BPI(O)','BPI(D)']\n",
    "        print(2008)\n",
    "espnBPI = bpi\n",
    "\n",
    "\n",
    "for y in range(2009,2023):\n",
    "    driver.find_element_by_tag_name('body').send_keys(Keys.COMMAND + 't') \n",
    "    driver.get(f'https://www.espn.com/mens-college-basketball/bpi/_/season/{y}')\n",
    "    time.sleep(10)\n",
    "    try:\n",
    "        for x in range(7):\n",
    "            element = WebDriverWait(driver, 10).until(EC.presence_of_element_located((By.LINK_TEXT, \"Show More\"))).click() \n",
    "    except:\n",
    "        try:\n",
    "            element = WebDriverWait(driver, 1000).until(EC.presence_of_element_located((By.XPATH, \"//table\")))\n",
    "            df = pd.read_html(driver.page_source)[0]\n",
    "            df2 = pd.read_html(driver.page_source)[1]\n",
    "        finally:\n",
    "            \n",
    "            bpi = pd.concat([df, df2], axis=1)\n",
    "            bpi['Year']=y\n",
    "            bpi = bpi.iloc[:,[12,0,6,7]]\n",
    "            bpi.columns = ['Year','Team','BPI(O)','BPI(D)']\n",
    "            print(y)\n",
    "    espnBPI = pd.concat([espnBPI,bpi])  \n",
    "\n",
    "\n",
    "espnBPI.to_csv('step02_espnbpi0823.csv',index=False)   \n",
    "    \n",
    "\n"
   ]
  },
  {
   "cell_type": "code",
   "execution_count": 1,
   "metadata": {},
   "outputs": [
    {
     "name": "stderr",
     "output_type": "stream",
     "text": [
      "<>:12: SyntaxWarning: invalid escape sequence '\\G'\n",
      "<>:12: SyntaxWarning: invalid escape sequence '\\G'\n",
      "/tmp/ipykernel_1750/4157157151.py:12: SyntaxWarning: invalid escape sequence '\\G'\n",
      "  PATH = 'E:\\Github\\chromedriver.exe'\n"
     ]
    },
    {
     "name": "stderr",
     "output_type": "stream",
     "text": [
      "/tmp/ipykernel_1750/4157157151.py:12: SyntaxWarning: invalid escape sequence '\\G'\n",
      "  PATH = 'E:\\Github\\chromedriver.exe'\n"
     ]
    },
    {
     "ename": "TypeError",
     "evalue": "WebDriver.__init__() got multiple values for argument 'options'",
     "output_type": "error",
     "traceback": [
      "\u001b[0;31m---------------------------------------------------------------------------\u001b[0m",
      "\u001b[0;31mTypeError\u001b[0m                                 Traceback (most recent call last)",
      "\u001b[1;32m/workspace/Python_Madness_2024/notebooks/step02_aScrapeEspnBpi.ipynb Cell 2\u001b[0m line \u001b[0;36m1\n\u001b[1;32m     <a href='vscode-notebook-cell://harmkenn-pythonmadness2-tq2lkpxacpw.ws-eu108.gitpod.io/workspace/Python_Madness_2024/notebooks/step02_aScrapeEspnBpi.ipynb#W1sdnNjb2RlLXJlbW90ZQ%3D%3D?line=12'>13</a>\u001b[0m opt \u001b[39m=\u001b[39m Options()\n\u001b[1;32m     <a href='vscode-notebook-cell://harmkenn-pythonmadness2-tq2lkpxacpw.ws-eu108.gitpod.io/workspace/Python_Madness_2024/notebooks/step02_aScrapeEspnBpi.ipynb#W1sdnNjb2RlLXJlbW90ZQ%3D%3D?line=13'>14</a>\u001b[0m opt\u001b[39m.\u001b[39madd_argument(\u001b[39m'\u001b[39m\u001b[39m--headless\u001b[39m\u001b[39m'\u001b[39m)\n\u001b[0;32m---> <a href='vscode-notebook-cell://harmkenn-pythonmadness2-tq2lkpxacpw.ws-eu108.gitpod.io/workspace/Python_Madness_2024/notebooks/step02_aScrapeEspnBpi.ipynb#W1sdnNjb2RlLXJlbW90ZQ%3D%3D?line=14'>15</a>\u001b[0m driver \u001b[39m=\u001b[39m webdriver\u001b[39m.\u001b[39;49mChrome(PATH,options\u001b[39m=\u001b[39;49mopt)\n\u001b[1;32m     <a href='vscode-notebook-cell://harmkenn-pythonmadness2-tq2lkpxacpw.ws-eu108.gitpod.io/workspace/Python_Madness_2024/notebooks/step02_aScrapeEspnBpi.ipynb#W1sdnNjb2RlLXJlbW90ZQ%3D%3D?line=15'>16</a>\u001b[0m y \u001b[39m=\u001b[39m \u001b[39m2023\u001b[39m\n\u001b[1;32m     <a href='vscode-notebook-cell://harmkenn-pythonmadness2-tq2lkpxacpw.ws-eu108.gitpod.io/workspace/Python_Madness_2024/notebooks/step02_aScrapeEspnBpi.ipynb#W1sdnNjb2RlLXJlbW90ZQ%3D%3D?line=16'>17</a>\u001b[0m driver\u001b[39m.\u001b[39mget(\u001b[39mf\u001b[39m\u001b[39m'\u001b[39m\u001b[39mhttps://www.espn.com/mens-college-basketball/bpi/_/view/bpi/season/\u001b[39m\u001b[39m{\u001b[39;00my\u001b[39m}\u001b[39;00m\u001b[39m'\u001b[39m)\n",
      "\u001b[0;31mTypeError\u001b[0m: WebDriver.__init__() got multiple values for argument 'options'"
     ]
    }
   ],
   "source": [
    "# Scrape ESPN BPI 2023 https://www.espn.com/mens-college-basketball/bpi\n",
    "\n",
    "from selenium import webdriver\n",
    "import pandas as pd\n",
    "from selenium import webdriver\n",
    "from selenium.webdriver.common.by import By\n",
    "from selenium.webdriver.chrome.options import Options\n",
    "from selenium.webdriver.support.ui import WebDriverWait\n",
    "from selenium.webdriver.support import expected_conditions as EC\n",
    "import time\n",
    "\n",
    "PATH = 'E:\\Github\\chromedriver.exe' \n",
    "opt = Options()\n",
    "opt.add_argument('--headless')\n",
    "driver = webdriver.Chrome(PATH,options=opt)\n",
    "y = 2023\n",
    "driver.get(f'https://www.espn.com/mens-college-basketball/bpi/_/view/bpi/season/{y}')\n",
    "driver.maximize_window()\n",
    "\n",
    "element = WebDriverWait(driver, 20).until(EC.presence_of_element_located((By.ID, \"onetrust-accept-btn-handler\"))).click()\n",
    "time.sleep(5)\n",
    "try:\n",
    "    for x in range(8):\n",
    "        element = WebDriverWait(driver, 10).until(EC.presence_of_element_located((By.LINK_TEXT, \"Show More\"))).click() \n",
    "except:\n",
    "    try:\n",
    "        element = WebDriverWait(driver, 1000).until(EC.presence_of_element_located((By.XPATH, \"//table\")))\n",
    "        df = pd.read_html(driver.page_source)[0]\n",
    "        df2 = pd.read_html(driver.page_source)[1]\n",
    "    finally:\n",
    "        driver.quit()\n",
    "        bpi = pd.concat([df, df2], axis=1)\n",
    "        bpi['Year']=y\n",
    "        bpi = bpi.iloc[:,[12,0,6,7]]\n",
    "        bpi.columns = ['Year','Team','BPI(O)','BPI(D)']\n",
    "espnBPI = pd.read_csv('step02_espnbpi0823.csv')\n",
    "espnBPI = espnBPI[espnBPI['Year']!=y]   \n",
    "espnBPI = pd.concat([espnBPI,bpi]) \n",
    "espnBPI.to_csv('step02_espnbpi0823.csv',index=False)      "
   ]
  },
  {
   "cell_type": "code",
   "execution_count": 2,
   "metadata": {},
   "outputs": [],
   "source": [
    "a = espnBPI['Team'].unique()\n",
    "b = pd.DataFrame({'tm':sorted(a)})\n",
    "b.to_csv('bbb.csv',index=False)"
   ]
  }
 ],
 "metadata": {
  "kernelspec": {
   "display_name": "Python 3",
   "language": "python",
   "name": "python3"
  },
  "language_info": {
   "codemirror_mode": {
    "name": "ipython",
    "version": 3
   },
   "file_extension": ".py",
   "mimetype": "text/x-python",
   "name": "python",
   "nbconvert_exporter": "python",
   "pygments_lexer": "ipython3",
   "version": "3.12.1"
  },
  "orig_nbformat": 4,
  "vscode": {
   "interpreter": {
    "hash": "75a0be042a4beffa7bfe652d9ca9055e675071b6b5ebd40357e1d67e4cb4d822"
   }
  }
 },
 "nbformat": 4,
 "nbformat_minor": 2
}
