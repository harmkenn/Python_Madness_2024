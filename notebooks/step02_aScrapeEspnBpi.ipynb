{
 "cells": [
  {
   "cell_type": "code",
   "execution_count": null,
   "metadata": {},
   "outputs": [],
   "source": [
    "# Scrape ESPN BPI 2008 - 2022 https://www.espn.com/mens-college-basketball/bpi\n",
    "\n",
    "from selenium import webdriver\n",
    "import pandas as pd\n",
    "from selenium import webdriver\n",
    "from selenium.webdriver.common.by import By\n",
    "from selenium.webdriver.chrome.options import Options\n",
    "from selenium.webdriver.support.ui import WebDriverWait\n",
    "from selenium.webdriver.support import expected_conditions as EC\n",
    "from selenium.webdriver.common.keys import Keys\n",
    "import time\n",
    "\n",
    "PATH = 'E:\\Github\\chromedriver.exe' \n",
    "opt = Options()\n",
    "opt.add_argument('--headless')\n",
    "driver = webdriver.Chrome(PATH,options=opt)\n",
    "\n",
    "driver.get('https://www.espn.com/mens-college-basketball/bpi/_/view/bpi/season/2008')\n",
    "driver.maximize_window()\n",
    "\n",
    "element = WebDriverWait(driver, 20).until(EC.presence_of_element_located((By.ID, \"onetrust-accept-btn-handler\"))).click()\n",
    "time.sleep(5)\n",
    "try:\n",
    "    for x in range(7):\n",
    "        element = WebDriverWait(driver, 10).until(EC.presence_of_element_located((By.LINK_TEXT, \"Show More\"))).click() \n",
    "except:\n",
    "    try:\n",
    "        element = WebDriverWait(driver, 1000).until(EC.presence_of_element_located((By.XPATH, \"//table\")))\n",
    "        df = pd.read_html(driver.page_source)[0]\n",
    "        df2 = pd.read_html(driver.page_source)[1]\n",
    "    finally:\n",
    "        \n",
    "        bpi = pd.concat([df, df2], axis=1)\n",
    "        bpi['Year']=2008\n",
    "        bpi = bpi.iloc[:,[12,0,1,6,7]]\n",
    "        bpi.columns = ['Year','Team','Conf','BPI(O)','BPI(D)']\n",
    "        print(2008)\n",
    "espnBPI = bpi\n",
    "\n",
    "\n",
    "for y in range(2009,2023):\n",
    "    driver.find_element_by_tag_name('body').send_keys(Keys.COMMAND + 't') \n",
    "    driver.get(f'https://www.espn.com/mens-college-basketball/bpi/_/season/{y}')\n",
    "    time.sleep(10)\n",
    "    try:\n",
    "        for x in range(7):\n",
    "            element = WebDriverWait(driver, 10).until(EC.presence_of_element_located((By.LINK_TEXT, \"Show More\"))).click() \n",
    "    except:\n",
    "        try:\n",
    "            element = WebDriverWait(driver, 1000).until(EC.presence_of_element_located((By.XPATH, \"//table\")))\n",
    "            df = pd.read_html(driver.page_source)[0]\n",
    "            df2 = pd.read_html(driver.page_source)[1]\n",
    "        finally:\n",
    "            \n",
    "            bpi = pd.concat([df, df2], axis=1)\n",
    "            bpi['Year']=y\n",
    "            bpi = bpi.iloc[:,[12,0,1,6,7]]\n",
    "            bpi.columns = ['Year','Team','Conf','BPI(O)','BPI(D)']\n",
    "            print(y)\n",
    "    espnBPI = pd.concat([espnBPI,bpi])  \n",
    "\n",
    "\n",
    "espnBPI.to_csv('step02_espnbpi0823.csv',index=False)   \n",
    "    \n",
    "\n"
   ]
  },
  {
   "cell_type": "code",
   "execution_count": 1,
   "metadata": {},
   "outputs": [
    {
     "name": "stderr",
     "output_type": "stream",
     "text": [
      "C:\\Users\\Daddy\\AppData\\Local\\Temp\\ipykernel_8680\\2602572809.py:15: DeprecationWarning: executable_path has been deprecated, please pass in a Service object\n",
      "  driver = webdriver.Chrome(PATH,options=opt)\n"
     ]
    }
   ],
   "source": [
    "# Scrape ESPN BPI 2023 https://www.espn.com/mens-college-basketball/bpi\n",
    "\n",
    "from selenium import webdriver\n",
    "import pandas as pd\n",
    "from selenium import webdriver\n",
    "from selenium.webdriver.common.by import By\n",
    "from selenium.webdriver.chrome.options import Options\n",
    "from selenium.webdriver.support.ui import WebDriverWait\n",
    "from selenium.webdriver.support import expected_conditions as EC\n",
    "import time\n",
    "\n",
    "PATH = 'E:\\Github\\chromedriver.exe' \n",
    "opt = Options()\n",
    "opt.add_argument('--headless')\n",
    "driver = webdriver.Chrome(PATH,options=opt)\n",
    "y = 2023\n",
    "driver.get(f'https://www.espn.com/mens-college-basketball/bpi/_/view/bpi/season/{y}')\n",
    "driver.maximize_window()\n",
    "\n",
    "element = WebDriverWait(driver, 20).until(EC.presence_of_element_located((By.ID, \"onetrust-accept-btn-handler\"))).click()\n",
    "time.sleep(5)\n",
    "try:\n",
    "    for x in range(8):\n",
    "        element = WebDriverWait(driver, 10).until(EC.presence_of_element_located((By.LINK_TEXT, \"Show More\"))).click() \n",
    "except:\n",
    "    try:\n",
    "        element = WebDriverWait(driver, 1000).until(EC.presence_of_element_located((By.XPATH, \"//table\")))\n",
    "        df = pd.read_html(driver.page_source)[0]\n",
    "        df2 = pd.read_html(driver.page_source)[1]\n",
    "    finally:\n",
    "        driver.quit()\n",
    "        bpi = pd.concat([df, df2], axis=1)\n",
    "        bpi['Year']=y\n",
    "        bpi = bpi.iloc[:,[12,0,1,6,7]]\n",
    "        bpi.columns = ['Year','Team','Conf','BPI(O)','BPI(D)']\n",
    "espnBPI = pd.read_csv('step02_espnbpi0823.csv')\n",
    "espnBPI = espnBPI[espnBPI['Year']!=y]   \n",
    "espnBPI = pd.concat([espnBPI,bpi]) \n",
    "espnBPI.to_csv('step02_espnbpi0823.csv',index=False)      "
   ]
  },
  {
   "cell_type": "code",
   "execution_count": 2,
   "metadata": {},
   "outputs": [],
   "source": [
    "a = espnBPI['Team'].unique()\n",
    "b = pd.DataFrame({'tm':sorted(a)})\n",
    "b.to_csv('bbb.csv',index=False)"
   ]
  }
 ],
 "metadata": {
  "kernelspec": {
   "display_name": "Python 3",
   "language": "python",
   "name": "python3"
  },
  "language_info": {
   "codemirror_mode": {
    "name": "ipython",
    "version": 3
   },
   "file_extension": ".py",
   "mimetype": "text/x-python",
   "name": "python",
   "nbconvert_exporter": "python",
   "pygments_lexer": "ipython3",
   "version": "3.11.2"
  },
  "orig_nbformat": 4,
  "vscode": {
   "interpreter": {
    "hash": "75a0be042a4beffa7bfe652d9ca9055e675071b6b5ebd40357e1d67e4cb4d822"
   }
  }
 },
 "nbformat": 4,
 "nbformat_minor": 2
}
