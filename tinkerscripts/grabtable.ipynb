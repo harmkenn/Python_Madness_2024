{
 "cells": [
  {
   "cell_type": "code",
   "execution_count": null,
   "metadata": {},
   "outputs": [],
   "source": [
    "from selenium import webdriver\n",
    "from selenium.webdriver.common.by import By\n",
    "from selenium.webdriver.support.ui import WebDriverWait\n",
    "from selenium.webdriver.support import expected_conditions as EC\n",
    "\n",
    "\n",
    "\n",
    "\n",
    "url = 'https://www.espn.com/mens-college-basketball/bpi/_/view/bpi/season/2023'\n",
    "\n",
    "driver = webdriver.Chrome()\n",
    "driver.get(url)\n",
    "wait = WebDriverWait(driver,10)\n",
    "\n",
    "while True:\n",
    "    try:\n",
    "        item = wait.until(EC.visibility_of_element_located((By.LINK_TEXT, \"Show More\")))\n",
    "        driver.execute_script(\"arguments[0].click();\", item)\n",
    "    except Exception:break\n",
    "\n",
    "for table in wait.until(EC.visibility_of_all_elements_located((By.XPATH,'//*[contains(@class,\"Table\")]//tr'))):\n",
    "    data = [item.text for item in table.find_elements_by_xpath(\".//*[self::td or self::th]\")]\n",
    "    print(data)\n",
    "\n",
    "driver.quit()"
   ]
  },
  {
   "cell_type": "code",
   "execution_count": null,
   "metadata": {},
   "outputs": [],
   "source": [
    "# https://www.youtube.com/watch?v=JLDbAx6LAdo\n",
    "\n",
    "from selenium import webdriver\n",
    "import pandas as pd\n",
    "from selenium import webdriver\n",
    "from selenium.webdriver.common.by import By\n",
    "from selenium.webdriver.chrome.options import Options\n",
    "from webdriver_manager.chrome import ChromeDriverManager\n",
    "\n",
    "PATH = 'E:\\Github\\chromedriver.exe' \n",
    "opt = Options()\n",
    "opt.add_argument('--headless')\n",
    "driver = webdriver.Chrome(PATH,chrome_options=opt)\n",
    "\n",
    "driver.get('https://www.worldometers.info/world-population/population-by-country/')\n",
    "driver.maximize_window()"
   ]
  },
  {
   "cell_type": "code",
   "execution_count": null,
   "metadata": {},
   "outputs": [],
   "source": [
    "# find //table[@id=*example2]/tbody/tr/td[2]/a to find the country names\n",
    "# shorten it to //tbody/tr/td[2]/a\n",
    "\n",
    "countries=driver.find_elements_by_xpath('//tbody/tr/td[2]/a')\n",
    "population=driver.find_elements_by_xpath('//tbody/tr/td[3]')\n",
    "yearly_change=driver.find_elements_by_xpath('//tbody/tr/td[4]')\n",
    "world_share=driver.find_elements_by_xpath('//tbody/tr/td[12]')\n",
    "\n",
    "\n",
    "population_result=[]\n",
    "\n",
    "for i in range(len(yearly_change)):\n",
    "    temporary_data={'Country': countries[i].text,\n",
    "                   'Population': population[i].text,\n",
    "                   'Yearly Change': yearly_change[i].text,\n",
    "                   'World Share': world_share[i].text}\n",
    "    population_result.append(temporary_data)\n",
    "\n",
    "df_data=pd.DataFrame(population_result)\n",
    "df_data"
   ]
  },
  {
   "cell_type": "code",
   "execution_count": null,
   "metadata": {},
   "outputs": [],
   "source": [
    "# https://www.youtube.com/watch?v=LN1a0JoKlX8\n",
    "# run without opening browser .... headless\n",
    "\n",
    "from selenium import webdriver\n",
    "from selenium.webdriver.common.by import By\n",
    "from selenium.webdriver.chrome.options import Options\n",
    "from webdriver_manager.chrome import ChromeDriverManager\n",
    "\n",
    "opt = Options()\n",
    "opt.add_argument('--headless')\n",
    "driver = webdriver.Chrome(ChromeDriverManager().install(),chrome_options=opt)\n",
    "driver.get('http://www.google.com')\n",
    "\n",
    "driver.quit()\n",
    "\n",
    "\n"
   ]
  },
  {
   "cell_type": "code",
   "execution_count": 45,
   "metadata": {},
   "outputs": [
    {
     "name": "stdout",
     "output_type": "stream",
     "text": [
      "                   Team      CONF (Unnamed: 0_level_0, W-L)  \\\n",
      "0       Houston Cougars  American                      25-2   \n",
      "1  Alabama Crimson Tide       SEC                      23-4   \n",
      "2  Tennessee Volunteers       SEC                      20-7   \n",
      "3           UCLA Bruins    Pac-12                      23-4   \n",
      "4   Purdue Boilermakers   Big Ten                      24-4   \n",
      "\n",
      "   (POWER INDEX, BPI)  (POWER INDEX, BPI RK) (POWER INDEX, TREND)  \\\n",
      "0                21.2                      1                   --   \n",
      "1                18.8                      2                    1   \n",
      "2                18.5                      3                    1   \n",
      "3                17.0                      4                   --   \n",
      "4                15.7                      5                    1   \n",
      "\n",
      "   (POWER INDEX, OFF)  (POWER INDEX, DEF) (PROJECTIONS, OVR W-L)  \\\n",
      "0                10.4                10.7               28.8-2.2   \n",
      "1                 8.8                10.1               26.4-4.6   \n",
      "2                 5.5                13.0               23.1-7.9   \n",
      "3                 6.9                10.1               26.2-4.8   \n",
      "4                 9.2                 6.5               26.3-4.7   \n",
      "\n",
      "  (PROJECTIONS, CONF W-L) (PROJECTIONS, WIN CONF%) (PROJECTIONS, REM SOS RK)  \n",
      "0                16.8-1.2                   >99.9%                       108  \n",
      "1                16.3-1.7                    98.7%                        41  \n",
      "2                12.1-5.9                    <0.1%                        34  \n",
      "3                17.2-2.8                    98.8%                        35  \n",
      "4                15.3-4.7                    99.5%                        29  \n"
     ]
    }
   ],
   "source": [
    "from selenium import webdriver\n",
    "import pandas as pd\n",
    "from selenium import webdriver\n",
    "from selenium.webdriver.common.by import By\n",
    "from selenium.webdriver.chrome.options import Options\n",
    "import time\n",
    "\n",
    "PATH = 'E:\\Github\\chromedriver.exe' \n",
    "opt = Options()\n",
    "opt.add_argument('--headless')\n",
    "driver = webdriver.Chrome(PATH,options=opt)\n",
    "\n",
    "driver.get('https://www.espn.com/mens-college-basketball/bpi/_/view/bpi/season/2023')\n",
    "driver.maximize_window()\n",
    "\n",
    "element = WebDriverWait(driver, 20).until(EC.presence_of_element_located((By.ID, \"onetrust-accept-btn-handler\"))).click()\n",
    "time.sleep(5)\n",
    "try:\n",
    "    for x in range(8):\n",
    "        element = WebDriverWait(driver, 10).until(EC.presence_of_element_located((By.LINK_TEXT, \"Show More\"))).click() \n",
    "except:\n",
    "    try:\n",
    "        element = WebDriverWait(driver, 1000).until(EC.presence_of_element_located((By.XPATH, \"//table\")))\n",
    "        df = pd.read_html(driver.page_source)[0]\n",
    "        df2 = pd.read_html(driver.page_source)[1]\n",
    "    finally:\n",
    "        driver.quit()\n",
    "        bpi = pd.concat([df, df2], axis=1)\n",
    "        print(bpi.head())\n",
    "    "
   ]
  }
 ],
 "metadata": {
  "kernelspec": {
   "display_name": "Python 3",
   "language": "python",
   "name": "python3"
  },
  "language_info": {
   "codemirror_mode": {
    "name": "ipython",
    "version": 3
   },
   "file_extension": ".py",
   "mimetype": "text/x-python",
   "name": "python",
   "nbconvert_exporter": "python",
   "pygments_lexer": "ipython3",
   "version": "3.10.7"
  },
  "orig_nbformat": 4,
  "vscode": {
   "interpreter": {
    "hash": "f627b94a91bc915482d65575b2ea77ee7c3710ea9aacf075a668e3021bd93680"
   }
  }
 },
 "nbformat": 4,
 "nbformat_minor": 2
}
