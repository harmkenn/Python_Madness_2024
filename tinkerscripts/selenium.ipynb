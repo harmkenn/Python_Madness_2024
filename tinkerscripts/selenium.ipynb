{
 "cells": [
  {
   "cell_type": "code",
   "execution_count": null,
   "metadata": {},
   "outputs": [],
   "source": [
    "# https://www.youtube.com/watch?v=Xjv1sY630Uc&list=PLzMcBGfZo4-n40rB1XaJ0ak1bemvlqumQ"
   ]
  },
  {
   "cell_type": "code",
   "execution_count": 8,
   "metadata": {},
   "outputs": [
    {
     "name": "stdout",
     "output_type": "stream",
     "text": [
      "2022-23 Men's College Basketball Power Index | ESPN\n"
     ]
    }
   ],
   "source": [
    "from selenium import webdriver\n",
    "PATH = 'E:\\Github\\chromedriver.exe'\n",
    "driver = webdriver.Chrome(PATH)\n",
    "driver.get('https://www.espn.com/mens-college-basketball/bpi/_/view/bpi/season/2023')\n",
    "print(driver.title)\n",
    "#driver.quit()\n"
   ]
  },
  {
   "cell_type": "code",
   "execution_count": 18,
   "metadata": {},
   "outputs": [
    {
     "name": "stdout",
     "output_type": "stream",
     "text": [
      "Tech With Tim - Python & Java Programming Tutorials - techwithtim.net\n",
      "<selenium.webdriver.remote.webelement.WebElement (session=\"08a8abef77877fad8368c6b5a2a1bf32\", element=\"5bad88d2-7ce3-40e9-b18f-07ae90449bbc\")>\n"
     ]
    }
   ],
   "source": [
    "from selenium import webdriver\n",
    "from selenium.webdriver.common.keys import Keys\n",
    "import time\n",
    "\n",
    "from selenium.webdriver.common.by import By\n",
    "from selenium.webdriver.support.wait import WebDriverWait\n",
    "from selenium.webdriver.support import expected_conditions as EC\n",
    "\n",
    "PATH = 'E:\\Github\\chromedriver.exe'\n",
    "driver = webdriver.Chrome(PATH)\n",
    "\n",
    "driver.get('https://techwithtim.net') \n",
    "print(driver.title)\n",
    "\n",
    "search = driver.find_element_by_name(\"s\")\n",
    "search.clear()\n",
    "search.send_keys(\"test\")\n",
    "search.send_keys(Keys.RETURN)\n",
    "\n",
    "# https://selenium-python.readthedocs.io/waits.html#explicit-waits\n",
    "try:\n",
    "    main = WebDriverWait(driver, 20).until(\n",
    "        EC.presence_of_element_located((By.ID, \"main\"))\n",
    "    )\n",
    "    articles = main.find_element_by_tag_name(\"article\")\n",
    "    print(articles)\n",
    "finally:\n",
    "    driver.quit()\n",
    "\n",
    "\n",
    "\n",
    "\n"
   ]
  },
  {
   "cell_type": "code",
   "execution_count": 25,
   "metadata": {},
   "outputs": [],
   "source": [
    "# https://www.youtube.com/watch?v=U6gbGk5WPws&list=PLzMcBGfZo4-n40rB1XaJ0ak1bemvlqumQ&index=3\n",
    "from selenium import webdriver\n",
    "from selenium.webdriver.common.keys import Keys\n",
    "import time\n",
    "\n",
    "from selenium.webdriver.common.by import By\n",
    "from selenium.webdriver.support.wait import WebDriverWait\n",
    "from selenium.webdriver.support import expected_conditions as EC\n",
    "\n",
    "PATH = 'E:\\Github\\chromedriver.exe'\n",
    "driver = webdriver.Chrome(PATH)\n",
    "\n",
    "driver.get('https://techwithtim.net') \n",
    "\n",
    "link = driver.find_element_by_link_text('Python Programming')\n",
    "link.click()\n",
    "\n",
    "# https://selenium-python.readthedocs.io/waits.html#explicit-waits\n",
    "try:\n",
    "    element = WebDriverWait(driver, 20).until(\n",
    "        EC.presence_of_element_located((By.LINK_TEXT, \"Beginner Python Tutorials\"))\n",
    "    )\n",
    "    element.click()\n",
    "    element = WebDriverWait(driver, 20).until(\n",
    "        EC.presence_of_element_located((By.ID, \"sow-button-19310003\"))\n",
    "    )\n",
    "    element.click()\n",
    "    \n",
    "    driver.back()\n",
    "    driver.back()\n",
    "    driver.back()\n",
    "    driver.forward()\n",
    "    driver.forward()\n",
    "except:\n",
    "    driver.quit()\n"
   ]
  },
  {
   "cell_type": "code",
   "execution_count": 34,
   "metadata": {},
   "outputs": [],
   "source": [
    "# https://www.youtube.com/watch?v=U6gbGk5WPws&list=PLzMcBGfZo4-n40rB1XaJ0ak1bemvlqumQ&index=3\n",
    "from selenium import webdriver\n",
    "from selenium.webdriver.common.keys import Keys\n",
    "import time\n",
    "\n",
    "from selenium.webdriver.common.by import By\n",
    "from selenium.webdriver.support.wait import WebDriverWait\n",
    "from selenium.webdriver.support import expected_conditions as EC\n",
    "\n",
    "PATH = 'E:\\Github\\chromedriver.exe'\n",
    "driver = webdriver.Chrome(PATH)\n",
    "\n",
    "driver.get('https://www.espn.com/mens-college-basketball/bpi/_/view/bpi/season/2023') \n",
    "\n",
    "\n",
    "# https://selenium-python.readthedocs.io/waits.html#explicit-waits\n",
    "try:\n",
    "    element = WebDriverWait(driver, 20).until(\n",
    "        EC.presence_of_element_located((By.ID, \"onetrust-accept-btn-handler\"))\n",
    "    )\n",
    "    element.click()\n",
    "    time.sleep(5)\n",
    "    for x in range(8):\n",
    "        element = WebDriverWait(driver, 20).until(\n",
    "            EC.presence_of_element_located((By.LINK_TEXT, \"Show More\"))\n",
    "        )\n",
    "        element.click()   \n",
    "    \n",
    "except:\n",
    "    item = driver.find_element_by_xpath('//*[contains(@id,\"showMoreHistory\")]/a')\n",
    "    driver.execute_script(\"arguments[0].click();\", item)\n",
    "    time.sleep(2)\n",
    "    for table in driver.find_elements_by_xpath('//*[contains(@id,\"eventHistoryTable\")]//tr'):\n",
    "        data = [item.text for item in table.find_elements_by_xpath(\".//*[self::td or self::th]\")]\n",
    "        print(data)\n",
    "\n",
    "    driver.quit()\n"
   ]
  }
 ],
 "metadata": {
  "kernelspec": {
   "display_name": "Python 3",
   "language": "python",
   "name": "python3"
  },
  "language_info": {
   "codemirror_mode": {
    "name": "ipython",
    "version": 3
   },
   "file_extension": ".py",
   "mimetype": "text/x-python",
   "name": "python",
   "nbconvert_exporter": "python",
   "pygments_lexer": "ipython3",
   "version": "3.10.7"
  },
  "orig_nbformat": 4,
  "vscode": {
   "interpreter": {
    "hash": "f627b94a91bc915482d65575b2ea77ee7c3710ea9aacf075a668e3021bd93680"
   }
  }
 },
 "nbformat": 4,
 "nbformat_minor": 2
}
