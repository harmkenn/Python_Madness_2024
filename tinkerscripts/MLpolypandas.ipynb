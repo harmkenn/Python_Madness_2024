{
 "cells": [
  {
   "cell_type": "code",
   "execution_count": 1,
   "metadata": {},
   "outputs": [
    {
     "name": "stdout",
     "output_type": "stream",
     "text": [
      "     output1    output2\n",
      "0  40.725891  53.746916\n"
     ]
    },
    {
     "name": "stderr",
     "output_type": "stream",
     "text": [
      "C:\\Users\\harmk\\AppData\\Roaming\\Python\\Python312\\site-packages\\sklearn\\base.py:493: UserWarning: X does not have valid feature names, but PolynomialFeatures was fitted with feature names\n",
      "  warnings.warn(\n"
     ]
    }
   ],
   "source": [
    "import pandas as pd\n",
    "from sklearn.preprocessing import PolynomialFeatures\n",
    "from sklearn.linear_model import LinearRegression\n",
    "\n",
    "# Sample data with 4 quantitative inputs and 2 quantitative outputs\n",
    "data = {\n",
    "    'input1': [1, 2, 3, 4, 5],\n",
    "    'input2': [5, 4, 3, 2, 1],\n",
    "    'input3': [2, 4, 6, 8, 10],\n",
    "    'input4': [10, 8, 6, 4, 2],\n",
    "    'output1': [3, 8, 15, 24, 35],\n",
    "    'output2': [7, 14, 23, 34, 47]\n",
    "}\n",
    "\n",
    "# Create a Pandas DataFrame\n",
    "df = pd.DataFrame(data)\n",
    "\n",
    "# Separate input and output features\n",
    "X = df[['input1', 'input2', 'input3', 'input4']]\n",
    "y = df[['output1', 'output2']]\n",
    "\n",
    "# Create polynomial features of degree 2\n",
    "poly = PolynomialFeatures(degree=2)\n",
    "X_poly = poly.fit_transform(X)\n",
    "\n",
    "# Create separate models for each output\n",
    "models = []\n",
    "for i in range(y.shape[1]):\n",
    "    model = LinearRegression()\n",
    "    model.fit(X_poly, y.iloc[:, i])\n",
    "    models.append(model)\n",
    "\n",
    "# Example usage: Predict outputs for new data\n",
    "new_data = [[6, 3, 11, 1]]\n",
    "new_data_poly = poly.transform(new_data)\n",
    "predicted_outputs = pd.DataFrame([[model.predict(new_data_poly)[0] for model in models]], columns=y.columns)\n",
    "print(predicted_outputs)\n"
   ]
  },
  {
   "cell_type": "code",
   "execution_count": 3,
   "metadata": {},
   "outputs": [
    {
     "name": "stdout",
     "output_type": "stream",
     "text": [
      "    output1    output2\n",
      "0  46.40742  60.617172\n",
      "Explained variance ratio: [0.82311772 0.17240853]\n"
     ]
    },
    {
     "name": "stderr",
     "output_type": "stream",
     "text": [
      "C:\\Users\\harmk\\AppData\\Roaming\\Python\\Python312\\site-packages\\sklearn\\base.py:493: UserWarning: X does not have valid feature names, but PolynomialFeatures was fitted with feature names\n",
      "  warnings.warn(\n"
     ]
    }
   ],
   "source": [
    "import pandas as pd\n",
    "from sklearn.preprocessing import PolynomialFeatures\n",
    "from sklearn.linear_model import LinearRegression\n",
    "from sklearn.decomposition import PCA\n",
    "\n",
    "# Sample data with 4 quantitative inputs and 2 quantitative outputs\n",
    "data = {\n",
    "    'input1': [1, 2, 3, 4, 5],\n",
    "    'input2': [5, 4, 3, 2, 1],\n",
    "    'input3': [2, 4, 6, 8, 10],\n",
    "    'input4': [10, 8, 6, 4, 2],\n",
    "    'output1': [3, 8, 15, 24, 35],\n",
    "    'output2': [7, 14, 23, 34, 47]\n",
    "}\n",
    "\n",
    "# Create a Pandas DataFrame\n",
    "df = pd.DataFrame(data)\n",
    "df = pd.DataFrame(data)\n",
    "X = df[['input1', 'input2', 'input3', 'input4']]\n",
    "y = df[['output1', 'output2']]\n",
    "\n",
    "# Create polynomial features\n",
    "poly = PolynomialFeatures(degree=4)\n",
    "X_poly = poly.fit_transform(X)\n",
    "\n",
    "# Apply PCA to reduce dimensionality\n",
    "pca = PCA(n_components=2)  # Reduce to 2 principal components\n",
    "X_pca = pca.fit_transform(X_poly)\n",
    "\n",
    "# Create separate models for each output\n",
    "models = []\n",
    "for i in range(y.shape[1]):\n",
    "    model = LinearRegression()\n",
    "    model.fit(X_pca, y.iloc[:, i])\n",
    "    models.append(model)\n",
    "\n",
    "# Example usage (same as before)\n",
    "new_data = [[6, 3, 11, 1]]\n",
    "new_data_poly = poly.transform(new_data)\n",
    "new_data_pca = pca.transform(new_data_poly)\n",
    "predicted_outputs = pd.DataFrame([[model.predict(new_data_pca)[0] for model in models]], columns=y.columns)\n",
    "print(predicted_outputs)\n",
    "\n",
    "# Print the explained variance ratio of each PCA component\n",
    "print(f\"Explained variance ratio: {pca.explained_variance_ratio_}\")\n"
   ]
  }
 ],
 "metadata": {
  "kernelspec": {
   "display_name": "Python 3",
   "language": "python",
   "name": "python3"
  },
  "language_info": {
   "codemirror_mode": {
    "name": "ipython",
    "version": 3
   },
   "file_extension": ".py",
   "mimetype": "text/x-python",
   "name": "python",
   "nbconvert_exporter": "python",
   "pygments_lexer": "ipython3",
   "version": "3.12.1"
  }
 },
 "nbformat": 4,
 "nbformat_minor": 2
}
